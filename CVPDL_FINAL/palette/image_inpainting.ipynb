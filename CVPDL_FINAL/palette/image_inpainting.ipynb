{
 "cells": [
  {
   "cell_type": "code",
   "execution_count": 1,
   "metadata": {},
   "outputs": [
    {
     "name": "stderr",
     "output_type": "stream",
     "text": [
      "/home/r12922150/miniconda3/envs/.cvpdl/lib/python3.11/site-packages/tqdm/auto.py:21: TqdmWarning: IProgress not found. Please update jupyter and ipywidgets. See https://ipywidgets.readthedocs.io/en/stable/user_install.html\n",
      "  from .autonotebook import tqdm as notebook_tqdm\n"
     ]
    }
   ],
   "source": [
    "# add path\n",
    "import sys\n",
    "sys.path.append('./Palette')\n",
    "from Palette.run import main_worker\n",
    "import Palette.core.praser as Praser\n",
    "import Palette.core.util as Util\n",
    "import os\n",
    "import argparse\n"
   ]
  },
  {
   "cell_type": "code",
   "execution_count": 5,
   "metadata": {},
   "outputs": [],
   "source": [
    "parser = argparse.ArgumentParser()\n",
    "parser.add_argument('-c', '--config', type=str, default='config/colorization_mirflickr25k.json', help='JSON file for configuration')\n",
    "parser.add_argument('-p', '--phase', type=str, choices=['train','test'], help='Run train or test', default='train')\n",
    "parser.add_argument('-b', '--batch', type=int, default=None, help='Batch size in every gpu')\n",
    "parser.add_argument('-gpu', '--gpu_ids', type=str, default=None)\n",
    "parser.add_argument('-d', '--debug', action='store_true')\n",
    "parser.add_argument('-P', '--port', default='21012', type=str)\n",
    "\n",
    "''' parser configs '''\n",
    "args = parser.parse_args(['-c', './Palette/config/my_config.json', '-p', 'test'])\n",
    "opt = Praser.parse(args)"
   ]
  },
  {
   "cell_type": "code",
   "execution_count": 6,
   "metadata": {},
   "outputs": [],
   "source": [
    "\n",
    "# cuda device number (只支援單個 gpu，但是懶得改，所以請用[i])\n",
    "opt['gpu_ids'] = [1]\n",
    "\n",
    "# 原始照片資料夾（現在是會把資料夾裡面的所有照片都做）（要改再跟我說）\n",
    "opt['datasets']['test']['which_dataset']['args']['data_root'] = './images'\n",
    "\n",
    "# mask 資料夾 (mask)\n",
    "opt['datasets']['test']['which_dataset']['args']['mask_config']['mask_root'] = './masks'\n",
    "\n",
    "# 輸出會在 ./palette_outputs/results/test/0/Out_{原本相片名稱}.png"
   ]
  },
  {
   "cell_type": "code",
   "execution_count": 7,
   "metadata": {},
   "outputs": [
    {
     "name": "stderr",
     "output_type": "stream",
     "text": [
      "/home/r12922150/CVPDL/final_project/Palette/run.py:28: UserWarning: You have chosen to use cudnn for accleration. torch.backends.cudnn.enabled=True\n",
      "  warnings.warn('You have chosen to use cudnn for accleration. torch.backends.cudnn.enabled=True')\n",
      "sampling loop time step: 100%|██████████| 1000/1000 [00:30<00:00, 32.33it/s]\n",
      "100%|██████████| 1/1 [00:31<00:00, 31.80s/it]"
     ]
    },
    {
     "name": "stdout",
     "output_type": "stream",
     "text": [
      "Close the Tensorboard SummaryWriter.\n"
     ]
    },
    {
     "name": "stderr",
     "output_type": "stream",
     "text": [
      "\n"
     ]
    }
   ],
   "source": [
    "gpu_str = ','.join(str(x) for x in opt['gpu_ids'])\n",
    "os.environ['CUDA_VISIBLE_DEVICES'] = gpu_str\n",
    "\n",
    "opt['world_size'] = 1 \n",
    "main_worker(0, 1, opt)"
   ]
  },
  {
   "cell_type": "code",
   "execution_count": null,
   "metadata": {},
   "outputs": [],
   "source": []
  }
 ],
 "metadata": {
  "kernelspec": {
   "display_name": ".env",
   "language": "python",
   "name": "python3"
  },
  "language_info": {
   "codemirror_mode": {
    "name": "ipython",
    "version": 3
   },
   "file_extension": ".py",
   "mimetype": "text/x-python",
   "name": "python",
   "nbconvert_exporter": "python",
   "pygments_lexer": "ipython3",
   "version": "3.11.6"
  }
 },
 "nbformat": 4,
 "nbformat_minor": 2
}
